{
 "metadata": {
  "name": ""
 },
 "nbformat": 3,
 "nbformat_minor": 0,
 "worksheets": [
  {
   "cells": [
    {
     "cell_type": "markdown",
     "metadata": {},
     "source": [
      "This basic example demonstrates how to run the Fisher analysis interactively and extract the mass hierarchy significance from the results."
     ]
    },
    {
     "cell_type": "code",
     "collapsed": false,
     "input": [
      "from pisa.analysis.fisher.Fisher import FisherMatrix\n",
      "from pisa.analysis.fisher.FisherAnalysis import get_fisher_matrices\n",
      "from pisa.utils.jsons import from_json"
     ],
     "language": "python",
     "metadata": {},
     "outputs": [],
     "prompt_number": 1
    },
    {
     "cell_type": "markdown",
     "metadata": {},
     "source": [
      "Load template settings and grid settings from a file:"
     ]
    },
    {
     "cell_type": "code",
     "collapsed": false,
     "input": [
      "model_settings = from_json(\"$PISA/resources/settings/template_settings/V36_par_6syst_e39_cz20.json\")\n",
      "grid_settings = from_json(\"$PISA/resources/settings/grid_settings/grid_settings_fisher.json\")"
     ],
     "language": "python",
     "metadata": {},
     "outputs": [],
     "prompt_number": 2
    },
    {
     "cell_type": "markdown",
     "metadata": {},
     "source": [
      "Run Fisher analysis chain for IMH, given the settings specified above:"
     ]
    },
    {
     "cell_type": "code",
     "collapsed": false,
     "input": [
      "fisher = get_fisher_matrices(model_settings, grid_settings, IMH=True, NMH=False)"
     ],
     "language": "python",
     "metadata": {},
     "outputs": [],
     "prompt_number": 3
    },
    {
     "cell_type": "markdown",
     "metadata": {},
     "source": [
      "Print the mass hierarchy significances and impacts + uncertainties of the different systematics:"
     ]
    },
    {
     "cell_type": "code",
     "collapsed": false,
     "input": [
      "for data in fisher:\n",
      "    for channel in fisher[data]:\n",
      "        print \"%s, %s: hierarchy significance (sigma): %.2f \\n\"%(data,channel,1./fisher[data][channel].getSigma('hierarchy'))\n",
      "        fisher[data][channel].printResultsSorted('hierarchy',latex=False)\n",
      "        print \"\\n\""
     ],
     "language": "python",
     "metadata": {},
     "outputs": [
      {
       "output_type": "stream",
       "stream": "stdout",
       "text": [
        "IMH, comb: hierarchy significance (sigma): 1.70 \n",
        "\n",
        "     parameter     impact [%]      best fit          full          stat          syst        priors\n",
        "---------------------------------------------------------------------------------------------------\n",
        "     hierarchy          100.0     1.000e+00     5.866e-01     4.214e-01     4.081e-01     free\n",
        "      deltam31           31.2     2.460e-03     4.787e-05     3.744e-05     2.983e-05     free\n",
        "nu_nubar_ratio            9.4     1.000e+00     1.207e-01     5.598e-03     2.031e-01     1.500e-01\n",
        "    aeff_scale            7.7     1.000e+00     8.171e-02     3.826e-03     8.162e-02     free\n",
        "       theta23            7.7     6.745e-01     1.294e-02     8.666e-03     9.613e-03     free\n",
        "       theta13            2.3     1.559e-01     8.140e-03     2.818e-02     1.082e-01     8.162e-03\n",
        "  energy_scale            0.3     1.000e+00     4.520e-02     9.022e-02     5.515e-02     5.000e-02\n",
        "\n",
        "\n",
        "IMH, trck: hierarchy significance (sigma): 0.70 \n",
        "\n",
        "     parameter     impact [%]      best fit          full          stat          syst        priors\n",
        "---------------------------------------------------------------------------------------------------\n",
        "     hierarchy          100.0     1.000e+00     1.423e+00     6.201e-01     1.280e+00     free\n",
        "      deltam31           77.8     2.460e-03     9.297e-05     4.002e-05     8.391e-05     free\n",
        "       theta23            9.5     6.745e-01     1.982e-02     9.769e-03     1.724e-02     free\n",
        "  energy_scale            1.1     1.000e+00     4.593e-02     9.570e-02     6.585e-02     5.000e-02\n",
        "       theta13            1.0     1.559e-01     8.160e-03     3.209e-02     3.702e-01     8.162e-03\n",
        "nu_nubar_ratio            0.6     1.000e+00     1.442e-01     1.076e-02     5.225e-01     1.500e-01\n",
        "    aeff_scale            0.3     1.000e+00     1.009e-01     7.535e-03     1.006e-01     free\n",
        "\n",
        "\n",
        "IMH, cscd: hierarchy significance (sigma): 0.98 \n",
        "\n",
        "     parameter     impact [%]      best fit          full          stat          syst        priors\n",
        "---------------------------------------------------------------------------------------------------\n",
        "     hierarchy          100.0     1.000e+00     1.017e+00     5.743e-01     8.393e-01     free\n",
        "       theta23           58.7     6.745e-01     6.381e-02     1.877e-02     6.099e-02     free\n",
        "      deltam31           12.7     2.460e-03     1.202e-04     1.061e-04     5.645e-05     free\n",
        "    aeff_scale            3.5     1.000e+00     1.040e-01     4.441e-03     1.039e-01     free\n",
        "nu_nubar_ratio            0.5     1.000e+00     1.446e-01     6.554e-03     5.419e-01     1.500e-01\n",
        "       theta13            0.4     1.559e-01     8.153e-03     5.896e-02     1.602e-01     8.162e-03\n",
        "  energy_scale            0.0     1.000e+00     4.931e-02     2.706e-01     1.269e-01     5.000e-02\n",
        "\n",
        "\n"
       ]
      }
     ],
     "prompt_number": 4
    },
    {
     "cell_type": "markdown",
     "metadata": {},
     "source": [
      "For .json files containing Fisher matrices, create Fisher matrix objects via the built-in method FisherMatrix.fromFile(\"/path/to/Fisher/matrix/file\") and proceed as shown above."
     ]
    },
    {
     "cell_type": "code",
     "collapsed": false,
     "input": [],
     "language": "python",
     "metadata": {},
     "outputs": []
    }
   ],
   "metadata": {}
  }
 ]
}